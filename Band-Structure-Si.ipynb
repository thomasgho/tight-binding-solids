{
 "cells": [
  {
   "cell_type": "code",
   "execution_count": 1,
   "metadata": {},
   "outputs": [],
   "source": [
    "import numpy as np\n",
    "from matplotlib import pyplot as plt\n",
    "\n",
    "%matplotlib inline"
   ]
  },
  {
   "cell_type": "markdown",
   "metadata": {},
   "source": [
    "## Tight-Binding, Silicon\n",
    "\n",
    "#### Ref: J. Chadi and M. Cohen, phys. stat. sol. (b) 68, 405 (1975)\n",
    "\n",
    "Tight binding Hamiltonian for Si:\n",
    "\n",
    "$$\n",
    "\\left(\n",
    "\\begin{array}{cccccccc}\n",
    "E_s & V_{ss} g_0 & 0 & 0 & 0 & V_{s0p} g_1 & V_{s0p} g_2 & V_{s0p} g_3 \\\\\n",
    "V_{ss} g_0^* & E_s & -V_{s1p} g_1^* & V_{s1p} g_2^* & -V_{s1p} g_3^* & 0 & 0 & 0 \\\\\n",
    "0 & -V_{s1p} g_1 & E_{p0} & 0 & 0 & V_{xx} g_0 & V_{xy} g_3 & V_{xy} g_2 \\\\\n",
    "0 & -V_{s1p} g_2 & 0 & E_{p0} & 0 & V_{xy} g_3 & V_{xx} g_0 & V_{xy} g_1 \\\\\n",
    "0 & -V_{s1p} g_3 & 0 & 0 & E_{p0} & V_{xy} g_2 & V_{xy} g_1 & V_{xx} g_0 \\\\\n",
    "V_{s0p} g_1^* & 0 & V_{xx} g_0^* & V_{xy} g_3^* & V_{xy} g_2^* & E_{p1} & 0 & 0 \\\\\n",
    "V_{s0p} g_2^* & 0 & V_{xy} g_3^* & V_{xx} g_0^* & V_{xy} g_1^* & 0 & E_{p1} & 0 \\\\\n",
    "V_{s0p} g_3^* & 0 & V_{xy} g_2^* & V_{xy} g_1^* & V_{xx} g_0^* & 0 & 0 & E_{p1}\n",
    "\\end{array}\n",
    "\\right)\n",
    "$$\n",
    "\n",
    "where:\n",
    "\n",
    "$$\n",
    "g_1(\\vec{k}) = (\\frac{1}{4})(e^{\\mathrm{i} \\vec{k} \\cdot \\vec{d_1}} + e^{\\mathrm{i} \\vec{k} \\cdot \\vec{d_2}} + e^{\\mathrm{i} \\vec{k} \\cdot \\vec{d_3}} + e^{\\mathrm{i} \\vec{k} \\cdot \\vec{d_4}} ) \\\\\n",
    "g_2(\\vec{k}) = (\\frac{1}{4})(e^{\\mathrm{i} \\vec{k} \\cdot \\vec{d_1}} + e^{\\mathrm{i} \\vec{k} \\cdot \\vec{d_2}} - e^{\\mathrm{i} \\vec{k} \\cdot \\vec{d_3}} - e^{\\mathrm{i} \\vec{k} \\cdot \\vec{d_4}} ) \\\\\n",
    "g_3(\\vec{k}) = (\\frac{1}{4})(e^{\\mathrm{i} \\vec{k} \\cdot \\vec{d_1}} - e^{\\mathrm{i} \\vec{k} \\cdot \\vec{d_2}} + e^{\\mathrm{i} \\vec{k} \\cdot \\vec{d_3}} - e^{\\mathrm{i} \\vec{k} \\cdot \\vec{d_4}}) \\\\\n",
    "g_4(\\vec{k}) =  (\\frac{1}{4})(e^{\\mathrm{i} \\vec{k} \\cdot \\vec{d_1}} - e^{\\mathrm{i} \\vec{k} \\cdot \\vec{d_2}} - e^{\\mathrm{i} \\vec{k} \\cdot \\vec{d_3}} + e^{\\mathrm{i} \\vec{k} \\cdot \\vec{d_4}})\n",
    "$$\n"
   ]
  },
  {
   "cell_type": "code",
   "execution_count": 2,
   "metadata": {},
   "outputs": [],
   "source": [
    "def g(k, d):\n",
    "    '''\n",
    "    k : array shape (3,) - phase factor\n",
    "    d: array shape (4, 3) - 4 nearest neighbours from atom at (0,0,0)\n",
    "    \n",
    "    '''\n",
    "    #1j is complex number i\n",
    "    #@ is matrix multiplication\n",
    "    \n",
    "    exp1, exp2, exp3, exp4 = [np.exp(1j * k @ rows) for rows in d]\n",
    "\n",
    "    return (1/4)*np.array([ exp1 + exp2 + exp3 + exp4,\n",
    "                            exp1 + exp2 - exp3 - exp4,\n",
    "                            exp1 - exp2 + exp3 - exp4,\n",
    "                            exp1 - exp2 - exp3 + exp4 ])"
   ]
  },
  {
   "cell_type": "markdown",
   "metadata": {},
   "source": [
    "For diamond structure crystals $E_{p0} = E_{p1}$ and $V_{s0p} = V_{s1p}$ (Cohen)"
   ]
  },
  {
   "cell_type": "code",
   "execution_count": 3,
   "metadata": {},
   "outputs": [],
   "source": [
    "def tb_eigenvals(g_i, E_s, E_p, V_ss, V_sp, V_xx, V_xy):\n",
    "    '''\n",
    "    g_i: array shape (4,)\n",
    "    E_s, E_p, V_ss, V_sp, V_xx, V_xy: integers\n",
    "                                    \n",
    "    returns: array shape (8,) of tight binding eigenvalues\n",
    "    '''\n",
    "    \n",
    "    cg_i = np.conjugate(g_i)\n",
    "\n",
    "    tb_hamiltonian = np.array([\n",
    "      [E_s, V_ss * g_i[0], 0, 0, 0, V_sp * g_i[1], V_sp * g_i[2], V_sp * g_i[3]],\n",
    "      [V_ss * cg_i[0], E_s, -V_sp * cg_i[1], -V_sp * cg_i[2], -V_sp * cg_i[3], 0, 0, 0],\n",
    "      [0, -V_sp * g_i[1], E_p, 0, 0, V_xx * g_i[0], V_xy * g_i[3], V_xy * g_i[2]],\n",
    "      [0, -V_sp * g_i[2], 0, E_p, 0, V_xy * g_i[3], V_xx * g_i[0], V_xy * g_i[1]],\n",
    "      [0, -V_sp * g_i[3], 0, 0, E_p, V_xy * g_i[2], V_xy * g_i[1], V_xx * g_i[0]],\n",
    "      [V_sp * cg_i[1], 0, V_xx * cg_i[0], V_xy * cg_i[3], V_xy * cg_i[2], E_p, 0, 0],\n",
    "      [V_sp * cg_i[2], 0, V_xy * cg_i[3], V_xx * cg_i[0], V_xy * cg_i[1], 0, E_p, 0],\n",
    "      [V_sp * cg_i[3], 0, V_xy * cg_i[2], V_xy * cg_i[1], V_xx * cg_i[0], 0, 0, E_p] ])\n",
    "\n",
    "    eigvals = np.linalg.eigvalsh(tb_hamiltonian)\n",
    "    eigvals.sort()\n",
    "    \n",
    "    return eigvals\n",
    "\n",
    "\n",
    "def bands_kpath(params, d, path):\n",
    "    '''\n",
    "    params: array shape (6,) - interaction parameters (eV)\n",
    "    d: array shape (4, 3) - 4 nearest neighbours from atom at (0,0,0)\n",
    "    path: array shape (n,) - n k-points in 1st Brillouin zone to calculate band structure over\n",
    "    \n",
    "    '''\n",
    "    bands = []\n",
    "    \n",
    "    for k in np.vstack(path):\n",
    "        g_i = g(k, d)\n",
    "        eigvals = tb_eigenvals(g_i, *params)\n",
    "        bands.append(eigvals)\n",
    "        \n",
    "    return np.stack(bands, axis=-1)"
   ]
  },
  {
   "cell_type": "code",
   "execution_count": 4,
   "metadata": {},
   "outputs": [],
   "source": [
    "# E_s, E_p, V_ss, V_sp, V_xx, V_xy (Cohen)\n",
    "params = (0, 7.20, -8.13, 5.88, 3.17, 7.51)\n",
    "\n",
    "# lattice constant\n",
    "a = 5.4e-10\n",
    "\n",
    "# nearest neighbours\n",
    "d = (a/4)*np.array([ [1, 1, 1],\n",
    "                     [1, -1, -1],\n",
    "                     [-1, 1, -1],\n",
    "                     [-1, -1, 1] ])\n",
    "\n",
    "# Brillouin points\n",
    "G = 2 * np.pi / a * np.array([0, 0, 0])\n",
    "L = 2 * np.pi / a * np.array([1/2, 1/2, 1/2])\n",
    "X = 2 * np.pi / a * np.array([0, 0, 1])"
   ]
  },
  {
   "cell_type": "code",
   "execution_count": 5,
   "metadata": {},
   "outputs": [
    {
     "data": {
      "image/png": "[encoded data removed]",
      "text/plain": [
       "<Figure size 432x288 with 1 Axes>"
      ]
     },
     "metadata": {
      "needs_background": "light"
     },
     "output_type": "display_data"
    }
   ],
   "source": [
    "# plot energy eigenvalues for n points across k-path\n",
    "\n",
    "def kpoints(x,y,n=1000, endpoint=True):\n",
    "    spacings = [np.linspace(start, end, num=n, endpoint=endpoint) for start, end in zip(x,y)]\n",
    "    return np.stack(spacings, axis=-1)\n",
    "\n",
    "lambd = kpoints(L, G, endpoint=False)\n",
    "delta = kpoints(G, X, endpoint=False)\n",
    "\n",
    "bands = bands_kpath(params, d, path=[lambd, delta])\n",
    "\n",
    "plt.figure()\n",
    "plt.ylabel('Energy (eV)')\n",
    "plt.xticks([])\n",
    "for band in bands:\n",
    "    plt.plot(band)\n",
    "plt.show()"
   ]
  },
  {
   "cell_type": "code",
   "execution_count": 6,
   "metadata": {},
   "outputs": [
    {
     "name": "stdout",
     "output_type": "stream",
     "text": [
      "minimum energy in conduction band : 7.949850850166131 eV\n",
      "index of minimum element : [0]\n"
     ]
    }
   ],
   "source": [
    "# find minimum energy in conduction band (row 4 of the band structure matrix)\n",
    "\n",
    "min_e = np.min(bands[4])\n",
    "k_point = np.where(bands[4] == np.min(bands[4]))\n",
    " \n",
    "print('minimum energy in conduction band :', min_e, 'eV')\n",
    "print('index of minimum element :', k_point[0])"
   ]
  },
  {
   "cell_type": "markdown",
   "metadata": {},
   "source": [
    "Therefore this minimum here is at the L point: $k = \\frac{2\\pi}{a} (\\frac{1}{2}, \\frac{1}{2}, \\frac{1}{2})$ ($L-\\Gamma$ path)\n",
    "\n",
    "If we consider the $\\Gamma-X$ path, there is a minimum at the $\\Gamma$ point, $k = (0,0,0)$:"
   ]
  },
  {
   "cell_type": "code",
   "execution_count": 7,
   "metadata": {},
   "outputs": [
    {
     "name": "stdout",
     "output_type": "stream",
     "text": [
      "minimum energy in conduction band (Γ-X path): 8.13 eV\n"
     ]
    }
   ],
   "source": [
    "min_e_G = bands[4,1000] #n = 1000th point is gamma point\n",
    "print('minimum energy in conduction band (Γ-X path):', min_e_G, 'eV')"
   ]
  }
 ],
 "metadata": {
  "kernelspec": {
   "display_name": "Python 3",
   "language": "python",
   "name": "python3"
  },
  "language_info": {
   "codemirror_mode": {
    "name": "ipython",
    "version": 3
   },
   "file_extension": ".py",
   "mimetype": "text/x-python",
   "name": "python",
   "nbconvert_exporter": "python",
   "pygments_lexer": "ipython3",
   "version": "3.8.5"
  }
 },
 "nbformat": 4,
 "nbformat_minor": 4
}
